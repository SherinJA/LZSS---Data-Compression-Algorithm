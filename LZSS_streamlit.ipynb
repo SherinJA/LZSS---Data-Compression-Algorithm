{
  "cells": [
    {
      "cell_type": "markdown",
      "metadata": {
        "id": "view-in-github",
        "colab_type": "text"
      },
      "source": [
        "<a href=\"https://colab.research.google.com/github/SherinJA/LZSS---Data-Compression-Algorithm/blob/master/LZSS_streamlit.ipynb\" target=\"_parent\"><img src=\"https://colab.research.google.com/assets/colab-badge.svg\" alt=\"Open In Colab\"/></a>"
      ]
    },
    {
      "cell_type": "code",
      "execution_count": null,
      "metadata": {
        "colab": {
          "base_uri": "https://localhost:8080/"
        },
        "id": "Qa59ki55Rt7a",
        "outputId": "ff2d4516-5575-4223-e397-3927b1b3e995"
      },
      "outputs": [
        {
          "name": "stdout",
          "output_type": "stream",
          "text": [
            "\u001b[2K     \u001b[90m━━━━━━━━━━━━━━━━━━━━━━━━━━━━━━━━━━━━━━━━\u001b[0m \u001b[32m44.3/44.3 kB\u001b[0m \u001b[31m920.4 kB/s\u001b[0m eta \u001b[36m0:00:00\u001b[0m\n",
            "\u001b[2K   \u001b[90m━━━━━━━━━━━━━━━━━━━━━━━━━━━━━━━━━━━━━━━━\u001b[0m \u001b[32m9.8/9.8 MB\u001b[0m \u001b[31m29.5 MB/s\u001b[0m eta \u001b[36m0:00:00\u001b[0m\n",
            "\u001b[2K   \u001b[90m━━━━━━━━━━━━━━━━━━━━━━━━━━━━━━━━━━━━━━━━\u001b[0m \u001b[32m6.9/6.9 MB\u001b[0m \u001b[31m37.6 MB/s\u001b[0m eta \u001b[36m0:00:00\u001b[0m\n",
            "\u001b[2K   \u001b[90m━━━━━━━━━━━━━━━━━━━━━━━━━━━━━━━━━━━━━━━━\u001b[0m \u001b[32m79.1/79.1 kB\u001b[0m \u001b[31m1.9 MB/s\u001b[0m eta \u001b[36m0:00:00\u001b[0m\n",
            "\u001b[?25h"
          ]
        }
      ],
      "source": [
        "!pip install -q streamlit"
      ]
    },
    {
      "cell_type": "code",
      "execution_count": null,
      "metadata": {
        "colab": {
          "base_uri": "https://localhost:8080/"
        },
        "id": "Zl6xo14oUnA1",
        "outputId": "79d688a8-2972-42a8-c3f2-3f6956237d5f"
      },
      "outputs": [
        {
          "name": "stdout",
          "output_type": "stream",
          "text": [
            "\u001b[1G\u001b[0K⠙\u001b[1G\u001b[0K⠹\u001b[1G\u001b[0K⠸\u001b[1G\u001b[0K⠼\u001b[1G\u001b[0K⠴\u001b[1G\u001b[0K⠦\u001b[1G\u001b[0K⠧\u001b[1G\u001b[0K⠇\u001b[1G\u001b[0K⠏\u001b[1G\u001b[0K⠋\u001b[1G\u001b[0K⠙\u001b[1G\u001b[0K⠹\u001b[1G\u001b[0K⠸\u001b[1G\u001b[0K⠼\u001b[1G\u001b[0K⠴\u001b[1G\u001b[0K⠦\u001b[1G\u001b[0K⠧\u001b[1G\u001b[0K⠇\u001b[1G\u001b[0K⠏\u001b[1G\u001b[0K⠋\u001b[1G\u001b[0K⠙\u001b[1G\u001b[0K⠹\u001b[1G\u001b[0K⠸\u001b[1G\u001b[0K⠼\u001b[1G\u001b[0K⠴\u001b[1G\u001b[0K⠦\u001b[1G\u001b[0K\n",
            "added 22 packages in 3s\n",
            "\u001b[1G\u001b[0K⠦\u001b[1G\u001b[0K\n",
            "\u001b[1G\u001b[0K⠦\u001b[1G\u001b[0K3 packages are looking for funding\n",
            "\u001b[1G\u001b[0K⠦\u001b[1G\u001b[0K  run `npm fund` for details\n",
            "\u001b[1G\u001b[0K⠦\u001b[1G\u001b[0K"
          ]
        }
      ],
      "source": [
        "!npm install localtunnel"
      ]
    },
    {
      "cell_type": "code",
      "execution_count": null,
      "metadata": {
        "colab": {
          "base_uri": "https://localhost:8080/"
        },
        "id": "B2YueUekVzNA",
        "outputId": "afca04b7-3923-45aa-a5a6-ed62b28fbfd8"
      },
      "outputs": [
        {
          "name": "stdout",
          "output_type": "stream",
          "text": [
            "35.243.207.30\n"
          ]
        }
      ],
      "source": [
        "!wget -q -O - ipv4.icanhazip.com"
      ]
    },
    {
      "cell_type": "code",
      "execution_count": null,
      "metadata": {
        "colab": {
          "base_uri": "https://localhost:8080/"
        },
        "id": "dTxp7QWAnvah",
        "outputId": "a068ffc0-3f9f-4782-ffc8-deb5e5a1c6dd"
      },
      "outputs": [
        {
          "name": "stdout",
          "output_type": "stream",
          "text": [
            "Writing lzss_streamlit.py\n"
          ]
        }
      ],
      "source": [
        "%%writefile lzss_streamlit.py\n",
        "\n",
        "\n",
        "import streamlit as st\n",
        "from tabulate import tabulate\n",
        "import pandas as pd\n",
        "\n",
        "def lzss_compress(text, search_size=7, lookahead_size=5):\n",
        "    search_buffer = \"\"\n",
        "    lookahead_buffer = text[:lookahead_size]\n",
        "    pos = lookahead_size\n",
        "    output = []\n",
        "    steps = []\n",
        "    i = 0\n",
        "\n",
        "    while lookahead_buffer:\n",
        "        # Find the longest match in the search buffer\n",
        "        longest_match_len = 0\n",
        "        longest_match_offset = 0\n",
        "\n",
        "        for j in range(len(search_buffer)):\n",
        "            match_len = 0\n",
        "            while (match_len < len(lookahead_buffer) and\n",
        "                   j + match_len < len(search_buffer) and\n",
        "                   search_buffer[j + match_len] == lookahead_buffer[match_len]):\n",
        "                match_len += 1\n",
        "\n",
        "            if match_len >= 1 and match_len > longest_match_len:\n",
        "                longest_match_len = match_len\n",
        "                longest_match_offset = len(search_buffer) - j  # Offset from end\n",
        "\n",
        "        # Decide output based on match\n",
        "        if longest_match_len >= 1:  # Only use pointers when they save space\n",
        "            output.append((1, (longest_match_offset, longest_match_len)))\n",
        "            matched_text = lookahead_buffer[:longest_match_len]\n",
        "        else:\n",
        "            output.append((0, lookahead_buffer[0]))\n",
        "            matched_text = lookahead_buffer[0]\n",
        "            longest_match_len = 1\n",
        "\n",
        "        # Record step\n",
        "        steps.append([i, search_buffer, lookahead_buffer,\n",
        "                      f\"({output[-1][0]}, {repr(output[-1][1]) if output[-1][0] == 0 else output[-1][1]})\"])\n",
        "\n",
        "        # Update buffers\n",
        "        search_buffer += matched_text\n",
        "        if len(search_buffer) > search_size:\n",
        "            search_buffer = search_buffer[-search_size:]\n",
        "\n",
        "        # Move forward in the lookahead buffer\n",
        "        lookahead_buffer = lookahead_buffer[longest_match_len:]\n",
        "\n",
        "        # Refill lookahead buffer\n",
        "        refill_length = min(longest_match_len, len(text) - pos)\n",
        "        if refill_length > 0:\n",
        "            lookahead_buffer += text[pos:pos + refill_length]\n",
        "            pos += refill_length\n",
        "\n",
        "        i += 1\n",
        "\n",
        "    return output, steps\n",
        "\n",
        "# LZSS Decompression Function\n",
        "def lzss_decompress(compressed, search_size=7):\n",
        "    buffer = \"\"\n",
        "    output = \"\"\n",
        "    steps = []\n",
        "\n",
        "    for i, (flag, value) in enumerate(compressed):\n",
        "        if flag == 0:  # Literal\n",
        "            buffer += value\n",
        "            output += value\n",
        "            if len(buffer) > search_size:\n",
        "                buffer = buffer[-search_size:]\n",
        "        else:  # Match\n",
        "            offset, length = value\n",
        "            # Handle the case where we need to copy from what we're currently generating\n",
        "            decoded = \"\"\n",
        "            for j in range(length):\n",
        "                if j < offset:\n",
        "                    char = buffer[len(buffer) - offset + j]\n",
        "                else:\n",
        "                    char = decoded[j - offset]\n",
        "                decoded += char\n",
        "\n",
        "            buffer += decoded\n",
        "            output += decoded\n",
        "            if len(buffer) > search_size:\n",
        "                buffer = buffer[-search_size:]\n",
        "\n",
        "        steps.append([i, buffer, f\"({flag}, {repr(value) if flag == 0 else value})\", output])\n",
        "\n",
        "    return output, steps\n",
        "\n",
        "# Calculate compression statistics\n",
        "def calculate_compression_stats(original_text, compressed_data):\n",
        "    # Calculate original size (1 byte per character)\n",
        "    original_size = len(original_text)\n",
        "\n",
        "    # Calculate compressed size\n",
        "    compressed_size = 0\n",
        "    for flag, value in compressed_data:\n",
        "        if flag == 0:  # Literal: 1 bit flag + 8 bits for character\n",
        "            compressed_size += 1 + 8\n",
        "        else:  # Pointer: 1 bit flag + bits for offset + bits for length\n",
        "            compressed_size += 1 + 3 + 3\n",
        "\n",
        "    # Convert bits to bytes (round up to nearest byte)\n",
        "    compressed_size_bytes = (compressed_size + 7) // 8\n",
        "\n",
        "    # Calculate compression ratio\n",
        "    compression_ratio = original_size / compressed_size_bytes if compressed_size_bytes > 0 else 0\n",
        "\n",
        "    # Calculate space savings percentage\n",
        "    space_savings = (1 - (compressed_size_bytes / original_size)) * 100 if original_size > 0 else 0\n",
        "\n",
        "    return {\n",
        "        \"original_size_bytes\": original_size,\n",
        "        \"compressed_size_bits\": compressed_size,\n",
        "        \"compressed_size_bytes\": compressed_size_bytes,\n",
        "        \"compression_ratio\": compression_ratio,\n",
        "        \"space_savings_percentage\": space_savings\n",
        "    }\n",
        "\n",
        "# Streamlit App\n",
        "def main():\n",
        "    st.title(\"LZSS Compression Demonstration\")\n",
        "\n",
        "    # Input section\n",
        "    st.header(\"Input\")\n",
        "    input_text = st.text_input(\"Enter text to compress:\", \"abracadabracabra\")\n",
        "    search_size = st.slider(\"Search Buffer Size\", min_value=1, max_value=15, value=7)\n",
        "    lookahead_size = st.slider(\"Lookahead Buffer Size\", min_value=1, max_value=10, value=5)\n",
        "\n",
        "    # Compression button\n",
        "    if st.button(\"Compress\"):\n",
        "        # Perform compression\n",
        "        compressed, compression_steps = lzss_compress(input_text, search_size, lookahead_size)\n",
        "\n",
        "        # Decompress to verify\n",
        "        decompressed, decompression_steps = lzss_decompress(compressed)\n",
        "\n",
        "        # Calculate statistics\n",
        "        stats = calculate_compression_stats(input_text, compressed)\n",
        "\n",
        "        # Display results\n",
        "        st.header(\"Compression Results\")\n",
        "\n",
        "        # Original Text\n",
        "        st.subheader(\"Original Text\")\n",
        "        st.text(input_text)\n",
        "\n",
        "        # Decompressed Text\n",
        "        st.subheader(\"Decompressed Text\")\n",
        "        st.text(decompressed)\n",
        "\n",
        "        # Verification\n",
        "        if input_text == decompressed:\n",
        "            st.success(\"Decompression successful! Original and decompressed strings match.\")\n",
        "        else:\n",
        "            st.error(\"Error: Decompression failed. Strings do not match.\")\n",
        "\n",
        "        # Compression Statistics\n",
        "        st.subheader(\"Compression Statistics\")\n",
        "        st.write(f\"Original size: {stats['original_size_bytes']} bytes\")\n",
        "        st.write(f\"Compressed size: {stats['compressed_size_bits']} bits ({stats['compressed_size_bytes']} bytes)\")\n",
        "        st.write(f\"Compression ratio: {stats['compression_ratio']:.2f}:1\")\n",
        "        st.write(f\"Space savings: {stats['space_savings_percentage']:.2f}%\")\n",
        "\n",
        "        # Compression Steps (Detailed View)\n",
        "        st.subheader(\"Compression Steps\")\n",
        "        compression_steps_df = pd.DataFrame(compression_steps,\n",
        "                                            columns=[\"Step\", \"Search Buffer\", \"Lookahead Buffer\", \"Output\"])\n",
        "        st.dataframe(compression_steps_df)\n",
        "\n",
        "        # Decompression Steps (Detailed View)\n",
        "        st.subheader(\"Decompression Steps\")\n",
        "        decompression_steps_df = pd.DataFrame(decompression_steps,\n",
        "                                              columns=[\"Step\", \"Buffer\", \"Input\", \"Output\"])\n",
        "        st.dataframe(decompression_steps_df)\n",
        "\n",
        "\n",
        "\n",
        "\n",
        "# Run the Streamlit app\n",
        "if __name__ == \"__main__\":\n",
        "    main()"
      ]
    },
    {
      "cell_type": "code",
      "execution_count": null,
      "metadata": {
        "colab": {
          "background_save": true,
          "base_uri": "https://localhost:8080/"
        },
        "id": "vTIVgyrvUrR-",
        "outputId": "8b0d5c84-3be6-4990-c268-a055468de669"
      },
      "outputs": [
        {
          "name": "stdout",
          "output_type": "stream",
          "text": [
            "\u001b[1G\u001b[0K⠙\u001b[1G\u001b[0K\n",
            "Collecting usage statistics. To deactivate, set browser.gatherUsageStats to false.\n",
            "\u001b[0m\n",
            "\u001b[0m\n",
            "\u001b[34m\u001b[1m  You can now view your Streamlit app in your browser.\u001b[0m\n",
            "\u001b[0m\n",
            "\u001b[34m  Local URL: \u001b[0m\u001b[1mhttp://localhost:8501\u001b[0m\n",
            "\u001b[34m  Network URL: \u001b[0m\u001b[1mhttp://172.28.0.12:8501\u001b[0m\n",
            "\u001b[34m  External URL: \u001b[0m\u001b[1mhttp://35.243.207.30:8501\u001b[0m\n",
            "\u001b[0m\n",
            "your url is: https://light-eyes-dig.loca.lt\n",
            "/content/node_modules/localtunnel/bin/lt.js:81\n",
            "    throw err;\n",
            "    ^\n",
            "\n",
            "Error: connection refused: localtunnel.me:30513 (check your firewall settings)\n",
            "    at Socket.<anonymous> \u001b[90m(/content/\u001b[39mnode_modules/\u001b[4mlocaltunnel\u001b[24m/lib/TunnelCluster.js:52:11\u001b[90m)\u001b[39m\n",
            "\u001b[90m    at Socket.emit (node:events:517:28)\u001b[39m\n",
            "\u001b[90m    at emitErrorNT (node:internal/streams/destroy:151:8)\u001b[39m\n",
            "\u001b[90m    at emitErrorCloseNT (node:internal/streams/destroy:116:3)\u001b[39m\n",
            "\u001b[90m    at process.processTicksAndRejections (node:internal/process/task_queues:82:21)\u001b[39m\n",
            "\n",
            "Node.js v18.20.5\n",
            "\u001b[1G\u001b[0K⠙\u001b[1G\u001b[0K"
          ]
        }
      ],
      "source": [
        "!streamlit run lzss_streamlit.py & npx localtunnel --port 8501"
      ]
    }
  ],
  "metadata": {
    "colab": {
      "provenance": [],
      "include_colab_link": true
    },
    "kernelspec": {
      "display_name": "Python 3",
      "name": "python3"
    },
    "language_info": {
      "name": "python"
    }
  },
  "nbformat": 4,
  "nbformat_minor": 0
}